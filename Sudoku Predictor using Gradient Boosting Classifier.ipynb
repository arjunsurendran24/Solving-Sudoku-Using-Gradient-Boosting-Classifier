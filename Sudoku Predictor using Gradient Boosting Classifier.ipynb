{
 "cells": [
  {
   "cell_type": "markdown",
   "metadata": {},
   "source": [
    "<h2>Solving Sudoku using Gradient Boosting Classfier<h2>"
   ]
  },
  {
   "cell_type": "markdown",
   "metadata": {},
   "source": [
    "<h3>What is Sudoku?</h3>\n",
    "\n",
    "From Wikipedia:\n",
    "\n",
    "<em>\"Sudoku, originally called Number Place) is a logic-based, combinatorial number-placement puzzle. The objective is to fill a 9×9 grid with digits so that each column, each row, and each of the nine 3×3 subgrids that compose the grid (also called \"boxes\", \"blocks\", or \"regions\") contains all of the digits from 1 to 9.\"</em>"
   ]
  },
  {
   "cell_type": "markdown",
   "metadata": {},
   "source": [
    "<h3>Model Description</h3>\n",
    "\n",
    "In this notebook I am attempting to formulate a semi-machine learning model that can predict the value of a particular cell of the puzzle.\n",
    "\n",
    "The dataset for training is obtained from Kaggle : https://www.kaggle.com/bryanpark/sudoku\n",
    "\n",
    "I am training a classifier whose input contains 26 features and output is a single value, the value of predicted cell. The 26 features consist of 8 values in same row, 8 values in same column, 8 values in same box, and 2 values which indicate position of the cell in the puzzle(row,column). For training, data is taken from 1000 puzzles and their solutions. It is split in a ratio 9:1, and 1 part is used as dev set. The data is further tested on 5000 examples. For improving accuracy, the output is fitted into puzzle and given as input again till further predictions make no change.\n",
    "\n",
    "The classifier used is Gradient Boosting Classifier, and learning rate chosen is 0.1. Accuracy is defined as no. of correct predictions out of no. of blank spaces. The model gave an accuracy of 73% on dev set.(With output not fitted into input)."
   ]
  },
  {
   "cell_type": "markdown",
   "metadata": {},
   "source": [
    "<h3>Acknowledgements</h3>\n",
    "\n",
    "I am grateful to Bryan Park for sharing this dataset.\n",
    "https://www.kaggle.com/bryanpark/sudoku"
   ]
  },
  {
   "cell_type": "code",
   "execution_count": 1,
   "metadata": {
    "collapsed": true
   },
   "outputs": [],
   "source": [
    "#Importing Libraries\n",
    "import pandas as pd\n",
    "import numpy as np\n",
    "import matplotlib.pyplot as plt\n",
    "%matplotlib inline\n",
    "plt.style.use('ggplot')\n",
    "import os"
   ]
  },
  {
   "cell_type": "code",
   "execution_count": 2,
   "metadata": {
    "collapsed": true
   },
   "outputs": [],
   "source": [
    "#Importing Dataset\n",
    "sudoku = pd.read_csv('sudoku.csv')"
   ]
  },
  {
   "cell_type": "code",
   "execution_count": 3,
   "metadata": {},
   "outputs": [
    {
     "data": {
      "text/html": [
       "<div>\n",
       "<style>\n",
       "    .dataframe thead tr:only-child th {\n",
       "        text-align: right;\n",
       "    }\n",
       "\n",
       "    .dataframe thead th {\n",
       "        text-align: left;\n",
       "    }\n",
       "\n",
       "    .dataframe tbody tr th {\n",
       "        vertical-align: top;\n",
       "    }\n",
       "</style>\n",
       "<table border=\"1\" class=\"dataframe\">\n",
       "  <thead>\n",
       "    <tr style=\"text-align: right;\">\n",
       "      <th></th>\n",
       "      <th>quizzes</th>\n",
       "      <th>solutions</th>\n",
       "    </tr>\n",
       "  </thead>\n",
       "  <tbody>\n",
       "    <tr>\n",
       "      <th>0</th>\n",
       "      <td>0043002090050090010700600430060020871900074000...</td>\n",
       "      <td>8643712593258497619712658434361925871986574322...</td>\n",
       "    </tr>\n",
       "    <tr>\n",
       "      <th>1</th>\n",
       "      <td>0401000501070039605200080000000000170009068008...</td>\n",
       "      <td>3461792581875239645296483719658324174729168358...</td>\n",
       "    </tr>\n",
       "    <tr>\n",
       "      <th>2</th>\n",
       "      <td>6001203840084590720000060050002640300700800069...</td>\n",
       "      <td>6951273841384596727248369158512647392739815469...</td>\n",
       "    </tr>\n",
       "    <tr>\n",
       "      <th>3</th>\n",
       "      <td>4972000001004000050000160986203000403009000000...</td>\n",
       "      <td>4972583161864397252537164986293815473759641828...</td>\n",
       "    </tr>\n",
       "    <tr>\n",
       "      <th>4</th>\n",
       "      <td>0059103080094030600275001000300002010008200070...</td>\n",
       "      <td>4659123781894735623275681497386452919548216372...</td>\n",
       "    </tr>\n",
       "  </tbody>\n",
       "</table>\n",
       "</div>"
      ],
      "text/plain": [
       "                                             quizzes  \\\n",
       "0  0043002090050090010700600430060020871900074000...   \n",
       "1  0401000501070039605200080000000000170009068008...   \n",
       "2  6001203840084590720000060050002640300700800069...   \n",
       "3  4972000001004000050000160986203000403009000000...   \n",
       "4  0059103080094030600275001000300002010008200070...   \n",
       "\n",
       "                                           solutions  \n",
       "0  8643712593258497619712658434361925871986574322...  \n",
       "1  3461792581875239645296483719658324174729168358...  \n",
       "2  6951273841384596727248369158512647392739815469...  \n",
       "3  4972583161864397252537164986293815473759641828...  \n",
       "4  4659123781894735623275681497386452919548216372...  "
      ]
     },
     "execution_count": 3,
     "metadata": {},
     "output_type": "execute_result"
    }
   ],
   "source": [
    "#Preview of Data\n",
    "sudoku.head()"
   ]
  },
  {
   "cell_type": "markdown",
   "metadata": {},
   "source": [
    "<strong>Here I am using the code provided in the Kaggle Dataset page for converting the data to numpy arrays</strong>"
   ]
  },
  {
   "cell_type": "code",
   "execution_count": 4,
   "metadata": {
    "collapsed": true
   },
   "outputs": [],
   "source": [
    "quizzes = np.zeros((1000000, 81), np.int32)\n",
    "solutions = np.zeros((1000000, 81), np.int32)\n",
    "for i, line in enumerate(open('sudoku.csv', 'r').read().splitlines()[1:]):\n",
    "    quiz, solution = line.split(\",\")\n",
    "    for j, q_s in enumerate(zip(quiz, solution)):\n",
    "        q, s = q_s\n",
    "        quizzes[i, j] = q\n",
    "        solutions[i, j] = s\n",
    "quizzes = quizzes.reshape((-1, 9, 9))\n",
    "solutions = solutions.reshape((-1, 9, 9))"
   ]
  },
  {
   "cell_type": "code",
   "execution_count": 5,
   "metadata": {},
   "outputs": [
    {
     "name": "stdout",
     "output_type": "stream",
     "text": [
      "[[0 0 4 3 0 0 2 0 9]\n",
      " [0 0 5 0 0 9 0 0 1]\n",
      " [0 7 0 0 6 0 0 4 3]\n",
      " [0 0 6 0 0 2 0 8 7]\n",
      " [1 9 0 0 0 7 4 0 0]\n",
      " [0 5 0 0 8 3 0 0 0]\n",
      " [6 0 0 0 0 0 1 0 5]\n",
      " [0 0 3 5 0 8 6 9 0]\n",
      " [0 4 2 9 1 0 3 0 0]]\n"
     ]
    }
   ],
   "source": [
    "#Sample Puzzle\n",
    "print(quizzes[0])"
   ]
  },
  {
   "cell_type": "code",
   "execution_count": 6,
   "metadata": {},
   "outputs": [
    {
     "name": "stdout",
     "output_type": "stream",
     "text": [
      "[[8 6 4 3 7 1 2 5 9]\n",
      " [3 2 5 8 4 9 7 6 1]\n",
      " [9 7 1 2 6 5 8 4 3]\n",
      " [4 3 6 1 9 2 5 8 7]\n",
      " [1 9 8 6 5 7 4 3 2]\n",
      " [2 5 7 4 8 3 9 1 6]\n",
      " [6 8 9 7 3 4 1 2 5]\n",
      " [7 1 3 5 2 8 6 9 4]\n",
      " [5 4 2 9 1 6 3 7 8]]\n"
     ]
    }
   ],
   "source": [
    "#Sample Solution\n",
    "print(solutions[0])"
   ]
  },
  {
   "cell_type": "markdown",
   "metadata": {},
   "source": [
    "<strong>The following code converts the data to the form described in model description</strong>"
   ]
  },
  {
   "cell_type": "code",
   "execution_count": 104,
   "metadata": {
    "collapsed": true
   },
   "outputs": [],
   "source": [
    "X = []\n",
    "y = []"
   ]
  },
  {
   "cell_type": "code",
   "execution_count": 105,
   "metadata": {
    "collapsed": true
   },
   "outputs": [],
   "source": [
    "for p in range(1000):\n",
    "    k = quizzes[p]\n",
    "    m = solutions[p]\n",
    "    for i in range(9):\n",
    "        for j in range(9):\n",
    "            temp = []\n",
    "            value = m[i][j]\n",
    "            for l in range(i):\n",
    "                temp.append(k[l][j])\n",
    "            for l in range(i+1,9):\n",
    "                temp.append(k[l][j])\n",
    "            for l in range(j):\n",
    "                temp.append(k[i][l])\n",
    "            for l in range(j+1,9):\n",
    "                temp.append(k[i][l])\n",
    "            temp.append(i)\n",
    "            temp.append(j)\n",
    "            \n",
    "            if i<3 and j<3:\n",
    "                for l in range(0,3):\n",
    "                    for r in range(0,3):\n",
    "                        if l!= i:\n",
    "                            temp.append(k[l][r])\n",
    "                        else:\n",
    "                            if r!=j:\n",
    "                                temp.append(k[l][r])\n",
    "                X.append(temp)\n",
    "                y.append(value)\n",
    "            elif i<3 and j<6:\n",
    "                for l in range(0,3):\n",
    "                    for r in range(3,6):\n",
    "                        if l!= i:\n",
    "                            temp.append(k[l][r])\n",
    "                        else:\n",
    "                            if r!=j:\n",
    "                                temp.append(k[l][r])\n",
    "                X.append(temp)\n",
    "                y.append(value)\n",
    "            elif i<3 and j<9:\n",
    "                for l in range(0,3):\n",
    "                    for r in range(6,9):\n",
    "                        if l!= i:\n",
    "                            temp.append(k[l][r])\n",
    "                        else:\n",
    "                            if r!=j:\n",
    "                                temp.append(k[l][r])\n",
    "                X.append(temp)\n",
    "                y.append(value)\n",
    "                \n",
    "            elif i<6 and j<3:\n",
    "                for l in range(3,6):\n",
    "                    for r in range(0,3):\n",
    "                        if l!= i:\n",
    "                            temp.append(k[l][r])\n",
    "                        else:\n",
    "                            if r!=j:\n",
    "                                temp.append(k[l][r])\n",
    "                X.append(temp)\n",
    "                y.append(value)\n",
    "            elif i<6 and j<6:\n",
    "                for l in range(3,6):\n",
    "                    for r in range(3,6):\n",
    "                        if l!= i:\n",
    "                            temp.append(k[l][r])\n",
    "                        else:\n",
    "                            if r!=j:\n",
    "                                temp.append(k[l][r])\n",
    "                X.append(temp)\n",
    "                y.append(value)\n",
    "            elif i<6 and j<9:\n",
    "                for l in range(3,6):\n",
    "                    for r in range(6,9):\n",
    "                        if l!= i:\n",
    "                            temp.append(k[l][r])\n",
    "                        else:\n",
    "                            if r!=j:\n",
    "                                temp.append(k[l][r])\n",
    "                X.append(temp)\n",
    "                y.append(value)\n",
    "                \n",
    "            elif i<9 and j<3:\n",
    "                for l in range(6,9):\n",
    "                    for r in range(0,3):\n",
    "                        if l!= i:\n",
    "                            temp.append(k[l][r])\n",
    "                        else:\n",
    "                            if r!=j:\n",
    "                                temp.append(k[l][r])\n",
    "                X.append(temp)\n",
    "                y.append(value)\n",
    "            elif i<9 and j<6:\n",
    "                for l in range(6,9):\n",
    "                    for r in range(3,6):\n",
    "                        if l!= i:\n",
    "                            temp.append(k[l][r])\n",
    "                        else:\n",
    "                            if r!=j:\n",
    "                                temp.append(k[l][r])\n",
    "                X.append(temp)\n",
    "                y.append(value)\n",
    "            elif i<9 and j<9:\n",
    "                for l in range(6,9):\n",
    "                    for r in range(6,9):\n",
    "                        if l!= i:\n",
    "                            temp.append(k[l][r])\n",
    "                        else:\n",
    "                            if r!=j:\n",
    "                                temp.append(k[l][r])\n",
    "                X.append(temp)\n",
    "                y.append(value)\n",
    "                \n",
    "            \n",
    "        for j in range(9):\n",
    "            temp = []\n",
    "            value = m[i][j]\n",
    "            for l in range(i):\n",
    "                temp.append(m[l][j])\n",
    "            for l in range(i+1,9):\n",
    "                temp.append(m[l][j])\n",
    "            for l in range(j):\n",
    "                temp.append(m[i][l])\n",
    "            for l in range(j+1,9):\n",
    "                temp.append(m[i][l])\n",
    "            temp.append(i)\n",
    "            temp.append(j)\n",
    "            \n",
    "            if i<3 and j<3:\n",
    "                for l in range(0,3):\n",
    "                    for r in range(0,3):\n",
    "                        if l!= i:\n",
    "                            temp.append(m[l][r])\n",
    "                        else:\n",
    "                            if r!=j:\n",
    "                                temp.append(m[l][r])\n",
    "                X.append(temp)\n",
    "                y.append(value)\n",
    "            elif i<3 and j<6:\n",
    "                for l in range(0,3):\n",
    "                    for r in range(3,6):\n",
    "                        if l!= i:\n",
    "                            temp.append(m[l][r])\n",
    "                        else:\n",
    "                            if r!=j:\n",
    "                                temp.append(m[l][r])\n",
    "                X.append(temp)\n",
    "                y.append(value)\n",
    "            elif i<3 and j<9:\n",
    "                for l in range(0,3):\n",
    "                    for r in range(6,9):\n",
    "                        if l!= i:\n",
    "                            temp.append(m[l][r])\n",
    "                        else:\n",
    "                            if r!=j:\n",
    "                                temp.append(m[l][r])\n",
    "                X.append(temp)\n",
    "                y.append(value)\n",
    "                \n",
    "            elif i<6 and j<3:\n",
    "                for l in range(3,6):\n",
    "                    for r in range(0,3):\n",
    "                        if l!= i:\n",
    "                            temp.append(m[l][r])\n",
    "                        else:\n",
    "                            if r!=j:\n",
    "                                temp.append(m[l][r])\n",
    "                X.append(temp)\n",
    "                y.append(value)\n",
    "            elif i<6 and j<6:\n",
    "                for l in range(3,6):\n",
    "                    for r in range(3,6):\n",
    "                        if l!= i:\n",
    "                            temp.append(m[l][r])\n",
    "                        else:\n",
    "                            if r!=j:\n",
    "                                temp.append(m[l][r])\n",
    "                X.append(temp)\n",
    "                y.append(value)\n",
    "            elif i<6 and j<9:\n",
    "                for l in range(3,6):\n",
    "                    for r in range(6,9):\n",
    "                        if l!= i:\n",
    "                            temp.append(m[l][r])\n",
    "                        else:\n",
    "                            if r!=j:\n",
    "                                temp.append(m[l][r])\n",
    "                X.append(temp)\n",
    "                y.append(value)\n",
    "                \n",
    "            elif i<9 and j<3:\n",
    "                for l in range(6,9):\n",
    "                    for r in range(0,3):\n",
    "                        if l!= i:\n",
    "                            temp.append(m[l][r])\n",
    "                        else:\n",
    "                            if r!=j:\n",
    "                                temp.append(m[l][r])\n",
    "                X.append(temp)\n",
    "                y.append(value)\n",
    "            elif i<9 and j<6:\n",
    "                for l in range(6,9):\n",
    "                    for r in range(3,6):\n",
    "                        if l!= i:\n",
    "                            temp.append(m[l][r])\n",
    "                        else:\n",
    "                            if r!=j:\n",
    "                                temp.append(m[l][r])\n",
    "                X.append(temp)\n",
    "                y.append(value)\n",
    "            elif i<9 and j<9:\n",
    "                for l in range(6,9):\n",
    "                    for r in range(6,9):\n",
    "                        if l!= i:\n",
    "                            temp.append(m[l][r])\n",
    "                        else:\n",
    "                            if r!=j:\n",
    "                                temp.append(m[l][r])\n",
    "                X.append(temp)\n",
    "                y.append(value)"
   ]
  },
  {
   "cell_type": "code",
   "execution_count": 106,
   "metadata": {
    "collapsed": true
   },
   "outputs": [],
   "source": [
    "X = np.asarray(X)\n",
    "y = np.asarray(y)"
   ]
  },
  {
   "cell_type": "code",
   "execution_count": 18,
   "metadata": {},
   "outputs": [
    {
     "data": {
      "text/plain": [
       "(162000, 26)"
      ]
     },
     "execution_count": 18,
     "metadata": {},
     "output_type": "execute_result"
    }
   ],
   "source": [
    "#Shape of Input Array\n",
    "X.shape"
   ]
  },
  {
   "cell_type": "code",
   "execution_count": 19,
   "metadata": {},
   "outputs": [
    {
     "data": {
      "text/plain": [
       "(162000,)"
      ]
     },
     "execution_count": 19,
     "metadata": {},
     "output_type": "execute_result"
    }
   ],
   "source": [
    "#Shape of output Array\n",
    "y.shape"
   ]
  },
  {
   "cell_type": "code",
   "execution_count": 20,
   "metadata": {},
   "outputs": [
    {
     "name": "stdout",
     "output_type": "stream",
     "text": [
      "[0 0 0 1 0 6 0 0 0 4 3 0 0 2 0 9 0 0 0 4 0 0 5 0 7 0] 8\n"
     ]
    }
   ],
   "source": [
    "#Sample Input and Corresponding Output\n",
    "print(X[0],y[0])"
   ]
  },
  {
   "cell_type": "code",
   "execution_count": 21,
   "metadata": {
    "collapsed": true
   },
   "outputs": [],
   "source": [
    "#Splitting data into training set and dev set\n",
    "from sklearn.model_selection import train_test_split\n",
    "X_train,X_test,y_train,y_test = train_test_split(X, y, test_size = 0.1, random_state = 42)"
   ]
  },
  {
   "cell_type": "code",
   "execution_count": 22,
   "metadata": {},
   "outputs": [
    {
     "data": {
      "text/plain": [
       "GradientBoostingClassifier(criterion='friedman_mse', init=None,\n",
       "              learning_rate=0.1, loss='deviance', max_depth=3,\n",
       "              max_features=None, max_leaf_nodes=None,\n",
       "              min_impurity_split=1e-07, min_samples_leaf=1,\n",
       "              min_samples_split=2, min_weight_fraction_leaf=0.0,\n",
       "              n_estimators=100, presort='auto', random_state=None,\n",
       "              subsample=1.0, verbose=0, warm_start=False)"
      ]
     },
     "execution_count": 22,
     "metadata": {},
     "output_type": "execute_result"
    }
   ],
   "source": [
    "#Training\n",
    "from sklearn.ensemble import GradientBoostingClassifier as GBC\n",
    "gbc = GBC(learning_rate = 0.1)\n",
    "gbc.fit(X_train,y_train)"
   ]
  },
  {
   "cell_type": "code",
   "execution_count": 23,
   "metadata": {
    "collapsed": true
   },
   "outputs": [],
   "source": [
    "#Predictions\n",
    "y_pred = gbc.predict(X_test)\n",
    "from sklearn.metrics import confusion_matrix\n",
    "cm = confusion_matrix(y_test, y_pred)"
   ]
  },
  {
   "cell_type": "code",
   "execution_count": 24,
   "metadata": {},
   "outputs": [
    {
     "name": "stdout",
     "output_type": "stream",
     "text": [
      "[[1058   34   48   59   81   80  110  129  191]\n",
      " [  23 1058   44   72   76   78  103  120  187]\n",
      " [  11   19 1139   57   86   73   96  127  166]\n",
      " [  18    9   18 1236   90   70   91  129  178]\n",
      " [   7    6    6   14 1219   85  118  132  191]\n",
      " [  14    7   22   29   34 1298  101  109  171]\n",
      " [  15    4    8   17   18   29 1415   99  187]\n",
      " [   4    1    1    9   15   11   35 1548  186]\n",
      " [   0    0    0    0    0    0    0    1 1870]]\n"
     ]
    }
   ],
   "source": [
    "#Confusion Matrix\n",
    "print(cm)"
   ]
  },
  {
   "cell_type": "code",
   "execution_count": 50,
   "metadata": {},
   "outputs": [
    {
     "data": {
      "text/plain": [
       "<matplotlib.axes._subplots.AxesSubplot at 0x7f995b1a0f28>"
      ]
     },
     "execution_count": 50,
     "metadata": {},
     "output_type": "execute_result"
    },
    {
     "data": {
      "image/png": "[encoded data removed]",
      "text/plain": [
       "<matplotlib.figure.Figure at 0x7f995b2e8cc0>"
      ]
     },
     "metadata": {},
     "output_type": "display_data"
    }
   ],
   "source": [
    "#Visualisation of Confusion Matrix\n",
    "#Code Source : https://stackoverflow.com/questions/35572000/how-can-i-plot-a-confusion-matrix\n",
    "import seaborn as sn\n",
    "df_cm = pd.DataFrame(cm, index = [i for i in range(1,10)],\n",
    "                  columns = [i for i in range(1,10)])\n",
    "plt.figure(figsize = (20,10))\n",
    "sn.set(font_scale=2)\n",
    "sn.heatmap(df_cm, annot=True,annot_kws={\"size\": 15}, fmt = 'g')"
   ]
  },
  {
   "cell_type": "markdown",
   "metadata": {},
   "source": [
    "The major limitation of the model is the tendency to predict higher values."
   ]
  },
  {
   "cell_type": "code",
   "execution_count": 51,
   "metadata": {
    "collapsed": true
   },
   "outputs": [],
   "source": [
    "#Accuracy\n",
    "s = 0\n",
    "for i in range(9):\n",
    "    for j in range(9):\n",
    "        if i==j:\n",
    "            s += cm[i][j]"
   ]
  },
  {
   "cell_type": "code",
   "execution_count": 52,
   "metadata": {},
   "outputs": [
    {
     "name": "stdout",
     "output_type": "stream",
     "text": [
      "Accuracy :  73.09 %\n"
     ]
    }
   ],
   "source": [
    "print('Accuracy : ',\"{0:.2f}\".format(s/X_test.shape[0]*100),'%')"
   ]
  },
  {
   "cell_type": "markdown",
   "metadata": {},
   "source": [
    "<h2>Test Results</h2>"
   ]
  },
  {
   "cell_type": "code",
   "execution_count": 61,
   "metadata": {
    "collapsed": true
   },
   "outputs": [],
   "source": [
    "#Predictor to function to preprocess data and return prediction\n",
    "def pred(k,i,j):\n",
    "            temp = []\n",
    "            for l in range(i):\n",
    "                temp.append(k[l][j])\n",
    "            for l in range(i+1,9):\n",
    "                temp.append(k[l][j])\n",
    "            for l in range(j):\n",
    "                temp.append(k[i][l])\n",
    "            for l in range(j+1,9):\n",
    "                temp.append(k[i][l])\n",
    "            temp.append(i)\n",
    "            temp.append(j)\n",
    "            \n",
    "            if i<3 and j<3:\n",
    "                for l in range(0,3):\n",
    "                    for r in range(0,3):\n",
    "                        if l!= i:\n",
    "                            temp.append(k[l][r])\n",
    "                        else:\n",
    "                            if r!=j:\n",
    "                                temp.append(k[l][r])\n",
    "               \n",
    "            elif i<3 and j<6:\n",
    "                for l in range(0,3):\n",
    "                    for r in range(3,6):\n",
    "                        if l!= i:\n",
    "                            temp.append(k[l][r])\n",
    "                        else:\n",
    "                            if r!=j:\n",
    "                                temp.append(k[l][r])\n",
    "               \n",
    "            elif i<3 and j<9:\n",
    "                for l in range(0,3):\n",
    "                    for r in range(6,9):\n",
    "                        if l!= i:\n",
    "                            temp.append(k[l][r])\n",
    "                        else:\n",
    "                            if r!=j:\n",
    "                                temp.append(k[l][r])\n",
    "                               \n",
    "            elif i<6 and j<3:\n",
    "                for l in range(3,6):\n",
    "                    for r in range(0,3):\n",
    "                        if l!= i:\n",
    "                            temp.append(k[l][r])\n",
    "                        else:\n",
    "                            if r!=j:\n",
    "                                temp.append(k[l][r])\n",
    "                \n",
    "            elif i<6 and j<6:\n",
    "                for l in range(3,6):\n",
    "                    for r in range(3,6):\n",
    "                        if l!= i:\n",
    "                            temp.append(k[l][r])\n",
    "                        else:\n",
    "                            if r!=j:\n",
    "                                temp.append(k[l][r])\n",
    "               \n",
    "            elif i<6 and j<9:\n",
    "                for l in range(3,6):\n",
    "                    for r in range(6,9):\n",
    "                        if l!= i:\n",
    "                            temp.append(k[l][r])\n",
    "                        else:\n",
    "                            if r!=j:\n",
    "                                temp.append(k[l][r])\n",
    "                \n",
    "                \n",
    "            elif i<9 and j<3:\n",
    "                for l in range(6,9):\n",
    "                    for r in range(0,3):\n",
    "                        if l!= i:\n",
    "                            temp.append(k[l][r])\n",
    "                        else:\n",
    "                            if r!=j:\n",
    "                                temp.append(k[l][r])\n",
    "                \n",
    "            elif i<9 and j<6:\n",
    "                for l in range(6,9):\n",
    "                    for r in range(3,6):\n",
    "                        if l!= i:\n",
    "                            temp.append(k[l][r])\n",
    "                        else:\n",
    "                            if r!=j:\n",
    "                                temp.append(k[l][r])\n",
    "                \n",
    "            elif i<9 and j<9:\n",
    "                for l in range(6,9):\n",
    "                    for r in range(6,9):\n",
    "                        if l!= i:\n",
    "                            temp.append(k[l][r])\n",
    "                        else:\n",
    "                            if r!=j:\n",
    "                                temp.append(k[l][r])\n",
    "                \n",
    "            temp = np.asarray(temp)\n",
    "            temp = np.reshape(temp,(1,26))\n",
    "            return gbc.predict(temp)"
   ]
  },
  {
   "cell_type": "code",
   "execution_count": 62,
   "metadata": {
    "scrolled": true
   },
   "outputs": [
    {
     "name": "stdout",
     "output_type": "stream",
     "text": [
      "[[0 3 0 9 0 0 1 0 0]\n",
      " [1 6 8 0 0 3 2 0 0]\n",
      " [5 0 0 0 0 0 0 6 0]\n",
      " [0 0 0 0 9 7 3 4 2]\n",
      " [0 0 6 5 8 0 0 0 0]\n",
      " [0 4 7 0 1 2 0 0 8]\n",
      " [0 8 5 2 3 0 0 0 9]\n",
      " [7 0 2 0 5 0 0 0 0]\n",
      " [0 0 0 8 0 1 0 0 4]]\n",
      "[[2 3 4 9 6 5 1 8 7]\n",
      " [1 6 8 7 4 3 2 9 5]\n",
      " [5 7 9 1 2 8 4 6 3]\n",
      " [8 5 1 6 9 7 3 4 2]\n",
      " [3 2 6 5 8 4 9 7 1]\n",
      " [9 4 7 3 1 2 6 5 8]\n",
      " [4 8 5 2 3 6 7 1 9]\n",
      " [7 1 2 4 5 9 8 3 6]\n",
      " [6 9 3 8 7 1 5 2 4]]\n",
      "[[4 3 4 9 7 8 1 8 7]\n",
      " [1 6 8 7 7 3 2 9 7]\n",
      " [5 9 9 7 7 8 9 6 7]\n",
      " [8 5 1 6 9 7 3 4 2]\n",
      " [9 9 6 5 8 4 9 9 7]\n",
      " [9 4 7 3 1 2 9 9 8]\n",
      " [6 8 5 2 3 6 7 7 9]\n",
      " [7 9 2 6 5 9 8 8 6]\n",
      " [9 9 9 8 7 1 7 7 4]]\n",
      "Predicted  100349  out of  188705  correctly.\n",
      "Accuracy :  53.18 %\n",
      "Correct Predictions for  1  :  5965\n",
      "Correct Predictions for  2  :  6006\n",
      "Correct Predictions for  3  :  6938\n",
      "Correct Predictions for  4  :  8712\n",
      "Correct Predictions for  5  :  10747\n",
      "Correct Predictions for  6  :  11021\n",
      "Correct Predictions for  7  :  14026\n",
      "Correct Predictions for  8  :  16062\n",
      "Correct Predictions for  9  :  20872\n",
      "Wrong Predictions for  1  :  15006\n",
      "Wrong Predictions for  2  :  14920\n",
      "Wrong Predictions for  3  :  13998\n",
      "Wrong Predictions for  4  :  12297\n",
      "Wrong Predictions for  5  :  10223\n",
      "Wrong Predictions for  6  :  10004\n",
      "Wrong Predictions for  7  :  6967\n",
      "Wrong Predictions for  8  :  4891\n",
      "Wrong Predictions for  9  :  50\n",
      "Accuracy for  1  :  28.44 %\n",
      "Accuracy for  2  :  28.70 %\n",
      "Accuracy for  3  :  33.14 %\n",
      "Accuracy for  4  :  41.47 %\n",
      "Accuracy for  5  :  51.25 %\n",
      "Accuracy for  6  :  52.42 %\n",
      "Accuracy for  7  :  66.81 %\n",
      "Accuracy for  8  :  76.66 %\n",
      "Accuracy for  9  :  99.76 %\n"
     ]
    }
   ],
   "source": [
    "#Test Predictions for 4000 Puzzles(Ouput Not fitted Back to Input)\n",
    "count = 0\n",
    "acc = []\n",
    "right_count = 0\n",
    "blank = []\n",
    "predicted = []\n",
    "count_num = [0,0,0,0,0,0,0,0,0,0]\n",
    "right = [0,0,0,0,0,0,0,0,0,0]\n",
    "wrong = [0,0,0,0,0,0,0,0,0,0]\n",
    "for p in range(1000,5000):\n",
    "    count_arr = count\n",
    "    right_arr = right_count\n",
    "    y_pred = []\n",
    "    k = quizzes[p]\n",
    "    l = solutions[p]\n",
    "    for i in range(9):\n",
    "        tem = []\n",
    "        for j in range(9):\n",
    "            if k[i][j] == 0 and l[i][j] != 0:\n",
    "                if l[i][j] == 1:\n",
    "                    count_num[1]+=1\n",
    "                elif l[i][j] == 2:\n",
    "                    count_num[2]+=1\n",
    "                elif l[i][j] == 3:\n",
    "                    count_num[3]+=1\n",
    "                elif l[i][j] == 4:\n",
    "                    count_num[4]+=1\n",
    "                elif l[i][j] == 5:\n",
    "                    count_num[5]+=1\n",
    "                elif l[i][j] == 6:\n",
    "                    count_num[6]+=1\n",
    "                elif l[i][j] == 7:\n",
    "                    count_num[7]+=1\n",
    "                elif l[i][j] == 8:\n",
    "                    count_num[8]+=1\n",
    "                elif l[i][j] == 9:\n",
    "                    count_num[9]+=1\n",
    "                count += 1\n",
    "                prediction = pred(k,i,j)[0]\n",
    "                if prediction == l[i][j]:\n",
    "                    right_count += 1\n",
    "                    if l[i][j] == 1:\n",
    "                        right[1]+=1\n",
    "                    elif l[i][j] == 2:\n",
    "                        right[2]+=1\n",
    "                    elif l[i][j] == 3:\n",
    "                        right[3]+=1\n",
    "                    elif l[i][j] == 4:\n",
    "                        right[4]+=1\n",
    "                    elif l[i][j] == 5:\n",
    "                        right[5]+=1\n",
    "                    elif l[i][j] == 6:\n",
    "                        right[6]+=1\n",
    "                    elif l[i][j] == 7:\n",
    "                        right[7]+=1\n",
    "                    elif l[i][j] == 8:\n",
    "                        right[8]+=1\n",
    "                    elif l[i][j] == 9:\n",
    "                        right[9]+=1\n",
    "                else:\n",
    "                    if l[i][j] == 1:\n",
    "                        wrong[1]+=1\n",
    "                    elif l[i][j] == 2:\n",
    "                        wrong[2]+=1\n",
    "                    elif l[i][j] == 3:\n",
    "                        wrong[3]+=1\n",
    "                    elif l[i][j] == 4:\n",
    "                        wrong[4]+=1\n",
    "                    elif l[i][j] == 5:\n",
    "                        wrong[5]+=1\n",
    "                    elif l[i][j] == 6:\n",
    "                        wrong[6]+=1\n",
    "                    elif l[i][j] == 7:\n",
    "                        wrong[7]+=1\n",
    "                    elif l[i][j] == 8:\n",
    "                        wrong[8]+=1\n",
    "                    elif l[i][j] == 9:\n",
    "                        wrong[9]+=1\n",
    "                tem.append(prediction)\n",
    "            else:\n",
    "                tem.append(k[i][j])\n",
    "        y_pred.append(tem)\n",
    "    count_arr = count - count_arr\n",
    "    right_arr = right_count - right_arr\n",
    "    blank.append(count_arr)\n",
    "    predicted.append(right_arr)\n",
    "    acc.append((right_arr/count_arr)*100)\n",
    "print(k)\n",
    "print(l)\n",
    "print(np.asarray(y_pred))\n",
    "print('Predicted ',right_count,' out of ',count,' correctly.')\n",
    "print('Accuracy : ','{0:.2f}'.format((right_count/count)*100),'%')\n",
    "for i in range(1,10):\n",
    "    print('Correct Predictions for ',i,' : ',right[i])\n",
    "for i in range(1,10):\n",
    "    print('Wrong Predictions for ',i,' : ',wrong[i])\n",
    "for i in range(1,10):\n",
    "    print('Accuracy for ',i,' : ','{0:.2f}'.format((right[i]/count_num[i])*100),'%')"
   ]
  },
  {
   "cell_type": "markdown",
   "metadata": {},
   "source": [
    "As seen the Confusion Matrix, the model produces better results for higher values"
   ]
  },
  {
   "cell_type": "code",
   "execution_count": 65,
   "metadata": {
    "scrolled": true
   },
   "outputs": [
    {
     "data": {
      "text/plain": [
       "<matplotlib.text.Text at 0x7f995849c550>"
      ]
     },
     "execution_count": 65,
     "metadata": {},
     "output_type": "execute_result"
    },
    {
     "data": {
      "image/png": "[encoded data removed]",
      "text/plain": [
       "<matplotlib.figure.Figure at 0x7f995855c240>"
      ]
     },
     "metadata": {},
     "output_type": "display_data"
    }
   ],
   "source": [
    "#Plot of Accuracy for first 300 test arrays\n",
    "plt.figure(figsize = (15,5))\n",
    "sn.set_style('darkgrid')\n",
    "plt.plot(acc[:300])\n",
    "plt.title('Accuracy')"
   ]
  },
  {
   "cell_type": "code",
   "execution_count": 66,
   "metadata": {},
   "outputs": [
    {
     "data": {
      "text/plain": [
       "<matplotlib.text.Text at 0x7f9958429668>"
      ]
     },
     "execution_count": 66,
     "metadata": {},
     "output_type": "execute_result"
    },
    {
     "data": {
      "image/png": "[encoded data removed]",
      "text/plain": [
       "<matplotlib.figure.Figure at 0x7f995848f668>"
      ]
     },
     "metadata": {},
     "output_type": "display_data"
    }
   ],
   "source": [
    "#Correct Predictions vs Number of blanks\n",
    "plt.figure(figsize = (15,5))\n",
    "plt.plot(blank[:300], color = 'red', label = 'No. of blanks')\n",
    "plt.plot(predicted[:300], color = 'blue', label = 'Correct Predictions')\n",
    "plt.legend()\n",
    "plt.title('Accuracy')"
   ]
  },
  {
   "cell_type": "code",
   "execution_count": 68,
   "metadata": {},
   "outputs": [
    {
     "name": "stdout",
     "output_type": "stream",
     "text": [
      "Highest accuracy attained is  75.56 %\n",
      "Lowest accuracy attained is  29.79 %\n"
     ]
    }
   ],
   "source": [
    "#The Best and The Worst result\n",
    "ma = 0\n",
    "mi = 100\n",
    "for i in range(len(acc)):\n",
    "    if acc[i]>=ma:\n",
    "        ma = acc[i]\n",
    "        ma_i = 1000+i#Noting down index for future use\n",
    "    if acc[i]<=mi:\n",
    "        mi = acc[i]\n",
    "        mi_i = 1000+i#Noting down index for future use\n",
    "print('Highest accuracy attained is ',\"{0:.2f}\".format(ma),'%')\n",
    "print('Lowest accuracy attained is ',\"{0:.2f}\".format(mi),'%')"
   ]
  },
  {
   "cell_type": "code",
   "execution_count": 69,
   "metadata": {},
   "outputs": [
    {
     "name": "stdout",
     "output_type": "stream",
     "text": [
      "Puzzle which gave highest accuracy( 75.56 %)\n",
      "[[0 0 0 2 5 7 0 0 0]\n",
      " [0 9 1 0 0 0 0 5 3]\n",
      " [0 4 2 1 0 0 0 0 6]\n",
      " [3 0 4 9 0 0 6 0 0]\n",
      " [8 7 0 0 0 6 4 0 1]\n",
      " [0 0 0 0 7 8 0 2 0]\n",
      " [0 6 0 5 3 0 1 0 8]\n",
      " [0 5 0 0 0 2 7 3 9]\n",
      " [4 0 9 0 8 0 0 0 0]]\n"
     ]
    }
   ],
   "source": [
    "print('Puzzle which gave highest accuracy(','{0:.2f}'.format(ma),'%)')\n",
    "print(quizzes[ma_i])"
   ]
  },
  {
   "cell_type": "code",
   "execution_count": 71,
   "metadata": {
    "collapsed": true
   },
   "outputs": [],
   "source": [
    "#Preprocessing function\n",
    "def loop(k,i,j):\n",
    "            temp = []\n",
    "            for l in range(i):\n",
    "                temp.append(k[l][j])\n",
    "            for l in range(i+1,9):\n",
    "                temp.append(k[l][j])\n",
    "            for l in range(j):\n",
    "                temp.append(k[i][l])\n",
    "            for l in range(j+1,9):\n",
    "                temp.append(k[i][l])\n",
    "            \n",
    "            if i<3 and j<3:\n",
    "                for l in range(0,3):\n",
    "                    for r in range(0,3):\n",
    "                        if l!= i:\n",
    "                            temp.append(k[l][r])\n",
    "                        else:\n",
    "                            if r!=j:\n",
    "                                temp.append(k[l][r])\n",
    "            elif i<3 and j<6:\n",
    "                for l in range(0,3):\n",
    "                    for r in range(3,6):\n",
    "                        if l!= i:\n",
    "                            temp.append(k[l][r])\n",
    "                        else:\n",
    "                            if r!=j:\n",
    "                                temp.append(k[l][r])\n",
    "            \n",
    "            elif i<3 and j<9:\n",
    "                for l in range(0,3):\n",
    "                    for r in range(6,9):\n",
    "                        if l!= i:\n",
    "                            temp.append(k[l][r])\n",
    "                        else:\n",
    "                            if r!=j:\n",
    "                                temp.append(k[l][r])\n",
    "                \n",
    "                \n",
    "            elif i<6 and j<3:\n",
    "                for l in range(3,6):\n",
    "                    for r in range(0,3):\n",
    "                        if l!= i:\n",
    "                            temp.append(k[l][r])\n",
    "                        else:\n",
    "                            if r!=j:\n",
    "                                temp.append(k[l][r])\n",
    "                \n",
    "            elif i<6 and j<6:\n",
    "                for l in range(3,6):\n",
    "                    for r in range(3,6):\n",
    "                        if l!= i:\n",
    "                            temp.append(k[l][r])\n",
    "                        else:\n",
    "                            if r!=j:\n",
    "                                temp.append(k[l][r])\n",
    "                \n",
    "            elif i<6 and j<9:\n",
    "                for l in range(3,6):\n",
    "                    for r in range(6,9):\n",
    "                        if l!= i:\n",
    "                            temp.append(k[l][r])\n",
    "                        else:\n",
    "                            if r!=j:\n",
    "                                temp.append(k[l][r])\n",
    "               \n",
    "                \n",
    "            elif i<9 and j<3:\n",
    "                for l in range(6,9):\n",
    "                    for r in range(0,3):\n",
    "                        if l!= i:\n",
    "                            temp.append(k[l][r])\n",
    "                        else:\n",
    "                            if r!=j:\n",
    "                                temp.append(k[l][r])\n",
    "                \n",
    "            elif i<9 and j<6:\n",
    "                for l in range(6,9):\n",
    "                    for r in range(3,6):\n",
    "                        if l!= i:\n",
    "                            temp.append(k[l][r])\n",
    "                        else:\n",
    "                            if r!=j:\n",
    "                                temp.append(k[l][r])\n",
    "                \n",
    "            elif i<9 and j<9:\n",
    "                for l in range(6,9):\n",
    "                    for r in range(6,9):\n",
    "                        if l!= i:\n",
    "                            temp.append(k[l][r])\n",
    "                        else:\n",
    "                            if r!=j:\n",
    "                                temp.append(k[l][r])\n",
    "                \n",
    "            return temp"
   ]
  },
  {
   "cell_type": "code",
   "execution_count": 83,
   "metadata": {
    "scrolled": true
   },
   "outputs": [],
   "source": [
    "#Improving Accuracy by fitting output to input\n",
    "for b in range(5):\n",
    "    if b==0:\n",
    "        new = np.copy(quizzes[ma_i])\n",
    "    count = 0\n",
    "    acc = []\n",
    "    right_count = 0\n",
    "    blank = []\n",
    "    predicted = []\n",
    "    count_num = [0,0,0,0,0,0,0,0,0,0]\n",
    "    right = [0,0,0,0,0,0,0,0,0,0]\n",
    "    wrong = [0,0,0,0,0,0,0,0,0,0]\n",
    "    count_arr = count\n",
    "    right_arr = right_count\n",
    "    k = np.copy(new)\n",
    "    l = solutions[ma_i]\n",
    "    y_pred = np.copy(k)\n",
    "    for i in range(9):\n",
    "        tem = []\n",
    "        for j in range(9):\n",
    "            if k[i][j] == 0 or k[i][j] in loop(k,i,j):\n",
    "                if l[i][j] == 1:\n",
    "                    count_num[1]+=1\n",
    "                elif l[i][j] == 2:\n",
    "                    count_num[2]+=1\n",
    "                elif l[i][j] == 3:\n",
    "                    count_num[3]+=1\n",
    "                elif l[i][j] == 4:\n",
    "                    count_num[4]+=1\n",
    "                elif l[i][j] == 5:\n",
    "                    count_num[5]+=1\n",
    "                elif l[i][j] == 6:\n",
    "                    count_num[6]+=1\n",
    "                elif l[i][j] == 7:\n",
    "                    count_num[7]+=1\n",
    "                elif l[i][j] == 8:\n",
    "                    count_num[8]+=1\n",
    "                elif l[i][j] == 9:\n",
    "                    count_num[9]+=1\n",
    "                \n",
    "                count += 1\n",
    "                prediction = pred(k,i,j)[0]\n",
    "                loo = loop(k,i,j)\n",
    "                #print(prediction,loo)\n",
    "                if prediction not in loo:\n",
    "                    tem.append(prediction)\n",
    "                    k[i][j] = prediction\n",
    "                    \n",
    "                else:\n",
    "                    tem.append(0)\n",
    "                \n",
    "                if prediction == l[i][j]:\n",
    "\n",
    "                    right_count += 1\n",
    "                    if l[i][j] == 1:\n",
    "                        right[1]+=1\n",
    "                    elif l[i][j] == 2:\n",
    "                        right[2]+=1\n",
    "                    elif l[i][j] == 3:\n",
    "                        right[3]+=1\n",
    "                    elif l[i][j] == 4:\n",
    "                        right[4]+=1\n",
    "                    elif l[i][j] == 5:\n",
    "                        right[5]+=1\n",
    "                    elif l[i][j] == 6:\n",
    "                        right[6]+=1\n",
    "                    elif l[i][j] == 7:\n",
    "                        right[7]+=1\n",
    "                    elif l[i][j] == 8:\n",
    "                        right[8]+=1\n",
    "                    elif l[i][j] == 9:\n",
    "                        right[9]+=1\n",
    "                else:\n",
    "                    if l[i][j] == 1:\n",
    "                        wrong[1]+=1\n",
    "                    elif l[i][j] == 2:\n",
    "                        wrong[2]+=1\n",
    "                    elif l[i][j] == 3:\n",
    "                        wrong[3]+=1\n",
    "                    elif l[i][j] == 4:\n",
    "                        wrong[4]+=1\n",
    "                    elif l[i][j] == 5:\n",
    "                        wrong[5]+=1\n",
    "                    elif l[i][j] == 6:\n",
    "                        wrong[6]+=1\n",
    "                    elif l[i][j] == 7:\n",
    "                        wrong[7]+=1\n",
    "                    elif l[i][j] == 8:\n",
    "                        wrong[8]+=1\n",
    "                    elif l[i][j] == 9:\n",
    "                        wrong[9]+=1\n",
    "                    \n",
    "            else:\n",
    "                tem.append(k[i][j])\n",
    "        y_pred[i] = np.copy(np.asarray(tem))\n",
    "    new = np.copy(np.asarray(y_pred))"
   ]
  },
  {
   "cell_type": "code",
   "execution_count": 75,
   "metadata": {},
   "outputs": [
    {
     "name": "stdout",
     "output_type": "stream",
     "text": [
      "Predicted Array\n",
      "[[6 8 3 2 5 7 9 4 0]\n",
      " [7 9 1 8 6 4 2 5 3]\n",
      " [5 4 2 1 9 3 8 7 6]\n",
      " [3 1 4 9 2 5 6 8 7]\n",
      " [8 7 5 3 0 6 4 9 1]\n",
      " [9 0 6 4 7 8 5 2 0]\n",
      " [2 6 7 5 3 9 1 0 8]\n",
      " [1 5 8 6 4 2 7 3 9]\n",
      " [4 3 9 7 8 1 0 6 5]]\n",
      "Correct Array\n",
      "[[6 8 3 2 5 7 9 1 4]\n",
      " [7 9 1 8 6 4 2 5 3]\n",
      " [5 4 2 1 9 3 8 7 6]\n",
      " [3 2 4 9 1 5 6 8 7]\n",
      " [8 7 5 3 2 6 4 9 1]\n",
      " [9 1 6 4 7 8 3 2 5]\n",
      " [2 6 7 5 3 9 1 4 8]\n",
      " [1 5 8 6 4 2 7 3 9]\n",
      " [4 3 9 7 8 1 5 6 2]]\n"
     ]
    }
   ],
   "source": [
    "print('Predicted Array')\n",
    "print(np.asarray(y_pred))\n",
    "print('Correct Array')\n",
    "print(l)"
   ]
  },
  {
   "cell_type": "code",
   "execution_count": 76,
   "metadata": {},
   "outputs": [
    {
     "name": "stdout",
     "output_type": "stream",
     "text": [
      "No. of blanks in input :  45\n"
     ]
    }
   ],
   "source": [
    "b = 0\n",
    "for i in range(9):\n",
    "    for j in range(9):\n",
    "        if quizzes[ma_i][i][j] == 0:\n",
    "            b +=1\n",
    "print('No. of blanks in input : ',b)"
   ]
  },
  {
   "cell_type": "code",
   "execution_count": 78,
   "metadata": {},
   "outputs": [
    {
     "name": "stdout",
     "output_type": "stream",
     "text": [
      "Correct predictions =  34\n",
      "Accuracy :  75.56 %\n"
     ]
    }
   ],
   "source": [
    "c = 0\n",
    "for i in range(9):\n",
    "    for j in range(9):\n",
    "        if y_pred[i][j] == l[i][j] and quizzes[ma_i][i][j] == 0:\n",
    "            c += 1\n",
    "print('Correct predictions = ', c)\n",
    "print('Accuracy : ','{0:.2f}'.format((c/b)*100),'%')"
   ]
  },
  {
   "cell_type": "markdown",
   "metadata": {},
   "source": [
    "<strong>For the Array with highest accuracy, there isn't any improvement in accuracy</strong>"
   ]
  },
  {
   "cell_type": "code",
   "execution_count": 85,
   "metadata": {},
   "outputs": [
    {
     "name": "stdout",
     "output_type": "stream",
     "text": [
      "Puzzle which gave lowest accuracy( 29.79 %)\n",
      "[[7 6 0 0 4 1 5 2 0]\n",
      " [0 0 0 2 6 8 0 7 0]\n",
      " [0 3 0 0 7 0 4 0 0]\n",
      " [0 7 0 0 0 0 0 0 3]\n",
      " [2 8 0 0 0 0 6 1 0]\n",
      " [0 0 3 0 2 9 0 5 7]\n",
      " [0 0 1 0 0 0 0 0 8]\n",
      " [0 0 5 4 3 7 0 6 0]\n",
      " [6 4 0 0 8 0 0 0 0]]\n"
     ]
    }
   ],
   "source": [
    "print('Puzzle which gave lowest accuracy(','{0:.2f}'.format(mi),'%)')\n",
    "print(quizzes[mi_i])"
   ]
  },
  {
   "cell_type": "code",
   "execution_count": 84,
   "metadata": {},
   "outputs": [],
   "source": [
    "#Improving Accuracy by fitting output to input\n",
    "for b in range(5):\n",
    "    if b==0:\n",
    "        new = np.copy(quizzes[mi_i])\n",
    "    count = 0\n",
    "    acc = []\n",
    "    right_count = 0\n",
    "    blank = []\n",
    "    predicted = []\n",
    "    count_num = [0,0,0,0,0,0,0,0,0,0]\n",
    "    right = [0,0,0,0,0,0,0,0,0,0]\n",
    "    wrong = [0,0,0,0,0,0,0,0,0,0]\n",
    "    count_arr = count\n",
    "    right_arr = right_count\n",
    "    k = np.copy(new)\n",
    "    l = solutions[mi_i]\n",
    "    y_pred = np.copy(k)\n",
    "    for i in range(9):\n",
    "        tem = []\n",
    "        for j in range(9):\n",
    "            if k[i][j] == 0 or k[i][j] in loop(k,i,j):\n",
    "                if l[i][j] == 1:\n",
    "                    count_num[1]+=1\n",
    "                elif l[i][j] == 2:\n",
    "                    count_num[2]+=1\n",
    "                elif l[i][j] == 3:\n",
    "                    count_num[3]+=1\n",
    "                elif l[i][j] == 4:\n",
    "                    count_num[4]+=1\n",
    "                elif l[i][j] == 5:\n",
    "                    count_num[5]+=1\n",
    "                elif l[i][j] == 6:\n",
    "                    count_num[6]+=1\n",
    "                elif l[i][j] == 7:\n",
    "                    count_num[7]+=1\n",
    "                elif l[i][j] == 8:\n",
    "                    count_num[8]+=1\n",
    "                elif l[i][j] == 9:\n",
    "                    count_num[9]+=1\n",
    "                count += 1\n",
    "                prediction = pred(k,i,j)[0]\n",
    "                loo = loop(k,i,j)\n",
    "                #print(prediction,loo)\n",
    "                if prediction not in loo:\n",
    "                    tem.append(prediction)\n",
    "                    k[i][j] = prediction\n",
    "                else:\n",
    "                    tem.append(0)\n",
    "                if prediction == l[i][j]:\n",
    "\n",
    "                    right_count += 1\n",
    "                    if l[i][j] == 1:\n",
    "                        right[1]+=1\n",
    "                    elif l[i][j] == 2:\n",
    "                        right[2]+=1\n",
    "                    elif l[i][j] == 3:\n",
    "                        right[3]+=1\n",
    "                    elif l[i][j] == 4:\n",
    "                        right[4]+=1\n",
    "                    elif l[i][j] == 5:\n",
    "                        right[5]+=1\n",
    "                    elif l[i][j] == 6:\n",
    "                        right[6]+=1\n",
    "                    elif l[i][j] == 7:\n",
    "                        right[7]+=1\n",
    "                    elif l[i][j] == 8:\n",
    "                        right[8]+=1\n",
    "                    elif l[i][j] == 9:\n",
    "                        right[9]+=1\n",
    "                else:\n",
    "                    if l[i][j] == 1:\n",
    "                        wrong[1]+=1\n",
    "                    elif l[i][j] == 2:\n",
    "                        wrong[2]+=1\n",
    "                    elif l[i][j] == 3:\n",
    "                        wrong[3]+=1\n",
    "                    elif l[i][j] == 4:\n",
    "                        wrong[4]+=1\n",
    "                    elif l[i][j] == 5:\n",
    "                        wrong[5]+=1\n",
    "                    elif l[i][j] == 6:\n",
    "                        wrong[6]+=1\n",
    "                    elif l[i][j] == 7:\n",
    "                        wrong[7]+=1\n",
    "                    elif l[i][j] == 8:\n",
    "                        wrong[8]+=1\n",
    "                    elif l[i][j] == 9:\n",
    "                        wrong[9]+=1\n",
    "\n",
    "            else:\n",
    "                tem.append(k[i][j])\n",
    "        y_pred[i] = np.copy(np.asarray(tem))\n",
    "    new = np.copy(np.asarray(y_pred))"
   ]
  },
  {
   "cell_type": "code",
   "execution_count": 80,
   "metadata": {},
   "outputs": [
    {
     "name": "stdout",
     "output_type": "stream",
     "text": [
      "Predicted Array\n",
      "[[7 6 9 3 4 1 5 2 0]\n",
      " [5 1 4 2 6 8 9 7 0]\n",
      " [8 3 2 9 7 5 4 0 6]\n",
      " [9 7 6 8 1 4 2 0 3]\n",
      " [2 8 0 7 5 3 6 1 9]\n",
      " [4 0 3 6 2 9 8 5 7]\n",
      " [3 9 1 5 0 6 7 4 8]\n",
      " [0 2 5 4 3 7 1 6 0]\n",
      " [6 4 7 1 8 2 3 9 5]]\n",
      "Correct Array\n",
      "[[7 6 8 3 4 1 5 2 9]\n",
      " [9 5 4 2 6 8 3 7 1]\n",
      " [1 3 2 9 7 5 4 8 6]\n",
      " [5 7 6 8 1 4 2 9 3]\n",
      " [2 8 9 7 5 3 6 1 4]\n",
      " [4 1 3 6 2 9 8 5 7]\n",
      " [3 2 1 5 9 6 7 4 8]\n",
      " [8 9 5 4 3 7 1 6 2]\n",
      " [6 4 7 1 8 2 9 3 5]]\n"
     ]
    }
   ],
   "source": [
    "print('Predicted Array')\n",
    "print(np.asarray(y_pred))\n",
    "print('Correct Array')\n",
    "print(l)"
   ]
  },
  {
   "cell_type": "code",
   "execution_count": 81,
   "metadata": {},
   "outputs": [
    {
     "name": "stdout",
     "output_type": "stream",
     "text": [
      "No. of blanks in input :  47\n"
     ]
    }
   ],
   "source": [
    "b = 0\n",
    "for i in range(9):\n",
    "    for j in range(9):\n",
    "        if quizzes[mi_i][i][j] == 0:\n",
    "            b +=1\n",
    "print('No. of blanks in input : ',b)"
   ]
  },
  {
   "cell_type": "code",
   "execution_count": 82,
   "metadata": {},
   "outputs": [
    {
     "name": "stdout",
     "output_type": "stream",
     "text": [
      "Correct predictions =  27\n",
      "Accuracy :  57.45 %\n"
     ]
    }
   ],
   "source": [
    "c = 0\n",
    "for i in range(9):\n",
    "    for j in range(9):\n",
    "        if y_pred[i][j] == l[i][j] and quizzes[mi_i][i][j] == 0:\n",
    "            c += 1\n",
    "print('Correct predictions = ', c)\n",
    "print('Accuracy : ','{0:.2f}'.format((c/b)*100),'%')"
   ]
  },
  {
   "cell_type": "markdown",
   "metadata": {},
   "source": [
    "<strong>Here the accuracy is improved from 30% to 57% with new method.</strong>"
   ]
  }
 ],
 "metadata": {
  "kernelspec": {
   "display_name": "Python 3",
   "language": "python",
   "name": "python3"
  },
  "language_info": {
   "codemirror_mode": {
    "name": "ipython",
    "version": 3
   },
   "file_extension": ".py",
   "mimetype": "text/x-python",
   "name": "python",
   "nbconvert_exporter": "python",
   "pygments_lexer": "ipython3",
   "version": "3.6.2"
  }
 },
 "nbformat": 4,
 "nbformat_minor": 2
}
